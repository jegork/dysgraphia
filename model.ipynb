{
 "cells": [
  {
   "cell_type": "code",
   "execution_count": 2,
   "metadata": {},
   "outputs": [],
   "source": [
    "import pickle\n",
    "import numpy as np\n",
    "\n",
    "import random\n",
    "import pandas as pd\n",
    "\n",
    "SEED = 42\n",
    "random.seed(SEED)\n",
    "np.random.seed(SEED)"
   ]
  },
  {
   "cell_type": "code",
   "execution_count": 3,
   "outputs": [],
   "source": [
    "from sklearn.model_selection import GroupShuffleSplit, GridSearchCV\n",
    "from sklearn.ensemble import RandomForestClassifier, GradientBoostingClassifier\n",
    "from sklearn.metrics import accuracy_score"
   ],
   "metadata": {
    "collapsed": false,
    "pycharm": {
     "name": "#%%\n"
    }
   }
  },
  {
   "cell_type": "code",
   "execution_count": 53,
   "outputs": [],
   "source": [
    "def get_data(col: str):\n",
    "    with open('data.pickle', 'rb') as f:\n",
    "        data = pickle.load(f)\n",
    "\n",
    "    data = [d for d in data if d.bezier_features is not None]\n",
    "    groups = [d.user_id for d in data]\n",
    "\n",
    "    X = [getattr(d, col) for d in data]\n",
    "    y = [d.label for d in data]\n",
    "\n",
    "    return X, y, groups\n",
    "\n",
    "def split(X, y, groups):\n",
    "    gss = GroupShuffleSplit(n_splits=1, train_size=0.7, random_state=SEED)\n",
    "    train_idx, test_idx = next(gss.split(X, y, groups))\n",
    "\n",
    "    trainX = [X[i] for i in train_idx]\n",
    "    trainY = [y[i] for i in train_idx]\n",
    "    testX = [X[i] for i in test_idx]\n",
    "    testY = [y[i] for i in test_idx]\n",
    "\n",
    "    return trainX, testX, trainY, testY"
   ],
   "metadata": {
    "collapsed": false,
    "pycharm": {
     "name": "#%%\n"
    }
   }
  },
  {
   "cell_type": "markdown",
   "metadata": {},
   "source": [
    "# Baseline"
   ]
  },
  {
   "cell_type": "code",
   "execution_count": 56,
   "metadata": {},
   "outputs": [
    {
     "name": "stdout",
     "output_type": "stream",
     "text": [
      "(959, 29802)\n",
      "Train accuracy: 1.0\n",
      "Test accuracy: 0.9512195121951219\n"
     ]
    }
   ],
   "source": [
    "X, y, groups = get_data('data')\n",
    "\n",
    "max_len = max([arr.shape[0] for arr in X])\n",
    "X = [np.pad(arr, ((0, max_len - arr.shape[0]), (0, 0)), 'constant', constant_values=0) for arr in X]\n",
    "X = [np.concatenate(x) for x in X]\n",
    "X = np.asarray(X)\n",
    "\n",
    "print(X.shape)\n",
    "trainX, testX, trainY, testY = split(X, y, groups)\n",
    "\n",
    "clf = RandomForestClassifier(n_estimators=60, min_samples_split=4, random_state=SEED)\n",
    "\n",
    "clf.fit(trainX, trainY)\n",
    "print(\"Train accuracy:\", accuracy_score(trainY, clf.predict(trainX)))\n",
    "print(\"Test accuracy:\", accuracy_score(testY, clf.predict(testX)))"
   ]
  },
  {
   "cell_type": "markdown",
   "metadata": {},
   "source": [
    "# Bezier"
   ]
  },
  {
   "cell_type": "markdown",
   "source": [],
   "metadata": {
    "collapsed": false
   }
  },
  {
   "cell_type": "code",
   "execution_count": 64,
   "metadata": {},
   "outputs": [
    {
     "name": "stdout",
     "output_type": "stream",
     "text": [
      "(959, 1316)\n",
      "Train accuracy: 1.0\n",
      "Test accuracy: 0.9442508710801394\n"
     ]
    }
   ],
   "source": [
    "X, y, groups = get_data('bezier_features')\n",
    "\n",
    "X = [x[~np.isnan(x).any(axis=1)] for x in X]\n",
    "\n",
    "max_len = max([arr.shape[0] for arr in X])\n",
    "X = [np.pad(arr, ((0, max_len - arr.shape[0]), (0, 0)), 'constant', constant_values=0) for arr in X]\n",
    "X = [np.concatenate(x) for x in X]\n",
    "X = np.asarray(X)\n",
    "\n",
    "print(X.shape)\n",
    "trainX, testX, trainY, testY = split(X, y, groups)\n",
    "\n",
    "clf = RandomForestClassifier(n_estimators=60, min_samples_split=4, random_state=SEED)\n",
    "\n",
    "clf.fit(trainX, trainY)\n",
    "print(\"Train accuracy:\", accuracy_score(trainY, clf.predict(trainX)))\n",
    "print(\"Test accuracy:\", accuracy_score(testY, clf.predict(testX)))"
   ]
  },
  {
   "cell_type": "code",
   "execution_count": 9,
   "metadata": {},
   "outputs": [
    {
     "name": "stdout",
     "output_type": "stream",
     "text": [
      "Train accuracy: 0.96875\n",
      "Test accuracy: 0.9442508710801394\n",
      "Train accuracy: 0.9568452380952381\n",
      "Test accuracy: 0.9512195121951219\n"
     ]
    }
   ],
   "source": [
    "gs = GridSearchCV(RandomForestClassifier(), {\n",
    "    'n_estimators': [10, 100, 250, 500],\n",
    "    'criterion': ['gini', 'entropy'],\n",
    "    'max_depth': [None, 5, 10, 25],\n",
    "    'min_samples_split': [0.1, 0.3, 0.7, 1.0],\n",
    "    'max_features': ['sqrt', 'log2']\n",
    "})\n",
    "\n",
    "gs.fit(trainX, trainY)\n",
    "print(\"Train accuracy:\", accuracy_score(trainY, gs.predict(trainX)))\n",
    "print(\"Test accuracy:\", accuracy_score(testY, gs.predict(testX)))"
   ]
  },
  {
   "cell_type": "markdown",
   "source": [
    "## Late fusion"
   ],
   "metadata": {
    "collapsed": false
   }
  },
  {
   "cell_type": "code",
   "execution_count": 108,
   "metadata": {},
   "outputs": [
    {
     "name": "stdout",
     "output_type": "stream",
     "text": [
      "   train_accuracy  test_accuracy\n",
      "0             1.0           0.60\n",
      "1             1.0           0.59\n",
      "2             1.0           0.51\n",
      "3             1.0           0.54\n",
      "4             1.0           0.60\n",
      "5             1.0           0.60\n",
      "6             1.0           0.97\n",
      "\n",
      "Total test accuracy: 0.84\n"
     ]
    }
   ],
   "source": [
    "X, y, groups = get_data('bezier_features')\n",
    "X = [x[~np.isnan(x).any(axis=1)] for x in X]\n",
    "\n",
    "trainX, testX, trainY, testY = split(X, y, groups)\n",
    "\n",
    "fusion = []\n",
    "results = []\n",
    "\n",
    "for col_id in range(X[0].shape[1]):\n",
    "    trainX_ = [ x[:, col_id].astype('float64') for x in trainX ]\n",
    "    testX_ = [ x[:, col_id].astype('float64') for x in testX ]\n",
    "\n",
    "    max_len = max(max([arr.shape[0] for arr in trainX_]), max([arr.shape[0] for arr in testX_]))\n",
    "    trainX_ = [np.pad(arr, (0, max_len-arr.shape[0])) for arr in trainX_]\n",
    "\n",
    "    testX_ = [np.pad(arr, (0, max_len-arr.shape[0])) for arr in testX_]\n",
    "\n",
    "    clf = RandomForestClassifier(n_estimators=40, min_samples_split=4, random_state=SEED)\n",
    "    clf.fit(trainX_, trainY)\n",
    "\n",
    "    results.append({\n",
    "        'train_accuracy': np.round(accuracy_score(trainY, clf.predict(trainX_)), 2),\n",
    "        'test_accuracy': np.round(accuracy_score(testY, clf.predict(testX_)), 2)\n",
    "    })\n",
    "\n",
    "    fusion.append(clf.predict_proba(testX_))\n",
    "\n",
    "fusion_preds = np.argmax(np.mean(np.asarray(fusion), axis=0), axis=1)\n",
    "print(pd.DataFrame(results))\n",
    "print('\\nTotal test accuracy:', np.round(accuracy_score(testY, fusion_preds), 2))"
   ]
  },
  {
   "cell_type": "markdown",
   "source": [
    "## Per feature"
   ],
   "metadata": {
    "collapsed": false,
    "pycharm": {
     "name": "#%% md\n"
    }
   }
  },
  {
   "cell_type": "code",
   "execution_count": 110,
   "metadata": {
    "pycharm": {
     "name": "#%%\n"
    }
   },
   "outputs": [
    {
     "name": "stdout",
     "output_type": "stream",
     "text": [
      "         shape  train_accuracy  test_accuracy\n",
      "0   (120, 322)             1.0           0.97\n",
      "1   (119, 350)             1.0           0.94\n",
      "2   (120, 434)             1.0           0.97\n",
      "3   (120, 378)             1.0           0.92\n",
      "4   (120, 623)             1.0           0.97\n",
      "5  (120, 1043)             1.0           0.97\n",
      "6  (120, 1316)             1.0           0.94\n",
      "7   (120, 735)             1.0           0.97\n"
     ]
    }
   ],
   "source": [
    "X, y, groups = get_data('bezier_features')\n",
    "classes, _, _ = get_data('type_')\n",
    "X = [x[~np.isnan(x).any(axis=1)] for x in X]\n",
    "\n",
    "results = []\n",
    "\n",
    "for i in np.unique(classes):\n",
    "    row_idx = np.where(classes==i)[0]\n",
    "    \n",
    "    X_ = [X[i] for i in row_idx]\n",
    "    y_ = [y[i] for i in row_idx]\n",
    "    groups_ = [groups[i] for i in row_idx]\n",
    "    \n",
    "    max_len = max([arr.shape[0] for arr in X_])\n",
    "    X_ = [np.pad(arr, ((0, max_len - arr.shape[0]), (0, 0)), 'constant', constant_values=0) for arr in X_]\n",
    "    X_ = [np.concatenate(x) for x in X_]\n",
    "    X_ = np.asarray(X_)\n",
    "\n",
    "    trainX, testX, trainY, testY = split(X_, y_, groups_)\n",
    "\n",
    "    clf = RandomForestClassifier(n_estimators=60, min_samples_split=4, random_state=SEED)\n",
    "\n",
    "    clf.fit(trainX, trainY)\n",
    "    results.append({\n",
    "        'shape': X_.shape,\n",
    "        'train_accuracy': np.round(accuracy_score(trainY, clf.predict(trainX)), 2),\n",
    "        'test_accuracy': np.round(accuracy_score(testY, clf.predict(testX)), 2)\n",
    "    })\n",
    "\n",
    "print(pd.DataFrame(results))"
   ]
  }
 ],
 "metadata": {
  "interpreter": {
   "hash": "dcb153a1a2aae8e081caa71bf2fab06bdec51d41e1970f84c88101117910e597"
  },
  "kernelspec": {
   "display_name": "Python 3.8.8 64-bit ('base': conda)",
   "language": "python",
   "name": "python3"
  },
  "language_info": {
   "codemirror_mode": {
    "name": "ipython",
    "version": 3
   },
   "file_extension": ".py",
   "mimetype": "text/x-python",
   "name": "python",
   "nbconvert_exporter": "python",
   "pygments_lexer": "ipython3",
   "version": "3.8.8"
  },
  "orig_nbformat": 4
 },
 "nbformat": 4,
 "nbformat_minor": 2
}